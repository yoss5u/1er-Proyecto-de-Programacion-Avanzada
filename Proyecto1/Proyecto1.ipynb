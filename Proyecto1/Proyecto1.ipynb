{
  "nbformat": 4,
  "nbformat_minor": 0,
  "metadata": {
    "colab": {
      "provenance": [],
      "authorship_tag": "ABX9TyNO4Yph1gW4HArKPSFmGY/k",
      "include_colab_link": true
    },
    "kernelspec": {
      "name": "python3",
      "display_name": "Python 3"
    },
    "language_info": {
      "name": "python"
    }
  },
  "cells": [
    {
      "cell_type": "markdown",
      "metadata": {
        "id": "view-in-github",
        "colab_type": "text"
      },
      "source": [
        "<a href=\"https://colab.research.google.com/github/Yossu502/1er-Proyecto-de-Programacion-Avanzada/blob/master/Proyecto1/Proyecto1.ipynb\" target=\"_parent\"><img src=\"https://colab.research.google.com/assets/colab-badge.svg\" alt=\"Open In Colab\"/></a>"
      ]
    },
    {
      "cell_type": "markdown",
      "source": [
        "# **Convertir grados Celsius a Fahrenheit con modelo de IA**"
      ],
      "metadata": {
        "id": "tKK7uXwThB20"
      }
    },
    {
      "cell_type": "markdown",
      "source": [
        "En este notebook se estara creando un modelo basico de una red neuronal capaz de poder convertir grados celcius a Fahrenheit sin necesidad de una formula. El dataset fue publicado de Kaggle."
      ],
      "metadata": {
        "id": "RpUwEYxPizdj"
      }
    },
    {
      "cell_type": "markdown",
      "source": [
        "### Librerias utilizadas"
      ],
      "metadata": {
        "id": "C4fVaGU6kia9"
      }
    },
    {
      "cell_type": "code",
      "execution_count": 1,
      "metadata": {
        "id": "ypmuKtLQgCh1"
      },
      "outputs": [],
      "source": [
        "import tensorflow as tf\n",
        "import pandas as pd\n",
        "import numpy as np\n",
        "import seaborn as sns\n",
        "import matplotlib.pyplot as plt\n"
      ]
    },
    {
      "cell_type": "markdown",
      "source": [
        "### Cargamos el dataset (.csv)"
      ],
      "metadata": {
        "id": "6Ixq-gU3km6x"
      }
    },
    {
      "cell_type": "code",
      "source": [
        "data_df = pd.read_csv('/content/celcius_to_fa.csv')\n",
        "data_df"
      ],
      "metadata": {
        "colab": {
          "base_uri": "https://localhost:8080/",
          "height": 424
        },
        "id": "sD-nxnFgkmWe",
        "outputId": "6cd1fdc0-bfd9-49a2-89f6-be7d71b67ed1"
      },
      "execution_count": 3,
      "outputs": [
        {
          "output_type": "execute_result",
          "data": {
            "text/plain": [
              "     Celsius  Fahrenheit\n",
              "0        -67       -88.6\n",
              "1         40       104.0\n",
              "2        -97      -142.6\n",
              "3         57       134.6\n",
              "4        -50       -58.0\n",
              "..       ...         ...\n",
              "995      -80      -112.0\n",
              "996       50       122.0\n",
              "997       18        64.4\n",
              "998       47       116.6\n",
              "999      -67       -88.6\n",
              "\n",
              "[1000 rows x 2 columns]"
            ],
            "text/html": [
              "\n",
              "  <div id=\"df-919714a4-17d4-460c-aced-58e773f6830f\">\n",
              "    <div class=\"colab-df-container\">\n",
              "      <div>\n",
              "<style scoped>\n",
              "    .dataframe tbody tr th:only-of-type {\n",
              "        vertical-align: middle;\n",
              "    }\n",
              "\n",
              "    .dataframe tbody tr th {\n",
              "        vertical-align: top;\n",
              "    }\n",
              "\n",
              "    .dataframe thead th {\n",
              "        text-align: right;\n",
              "    }\n",
              "</style>\n",
              "<table border=\"1\" class=\"dataframe\">\n",
              "  <thead>\n",
              "    <tr style=\"text-align: right;\">\n",
              "      <th></th>\n",
              "      <th>Celsius</th>\n",
              "      <th>Fahrenheit</th>\n",
              "    </tr>\n",
              "  </thead>\n",
              "  <tbody>\n",
              "    <tr>\n",
              "      <th>0</th>\n",
              "      <td>-67</td>\n",
              "      <td>-88.6</td>\n",
              "    </tr>\n",
              "    <tr>\n",
              "      <th>1</th>\n",
              "      <td>40</td>\n",
              "      <td>104.0</td>\n",
              "    </tr>\n",
              "    <tr>\n",
              "      <th>2</th>\n",
              "      <td>-97</td>\n",
              "      <td>-142.6</td>\n",
              "    </tr>\n",
              "    <tr>\n",
              "      <th>3</th>\n",
              "      <td>57</td>\n",
              "      <td>134.6</td>\n",
              "    </tr>\n",
              "    <tr>\n",
              "      <th>4</th>\n",
              "      <td>-50</td>\n",
              "      <td>-58.0</td>\n",
              "    </tr>\n",
              "    <tr>\n",
              "      <th>...</th>\n",
              "      <td>...</td>\n",
              "      <td>...</td>\n",
              "    </tr>\n",
              "    <tr>\n",
              "      <th>995</th>\n",
              "      <td>-80</td>\n",
              "      <td>-112.0</td>\n",
              "    </tr>\n",
              "    <tr>\n",
              "      <th>996</th>\n",
              "      <td>50</td>\n",
              "      <td>122.0</td>\n",
              "    </tr>\n",
              "    <tr>\n",
              "      <th>997</th>\n",
              "      <td>18</td>\n",
              "      <td>64.4</td>\n",
              "    </tr>\n",
              "    <tr>\n",
              "      <th>998</th>\n",
              "      <td>47</td>\n",
              "      <td>116.6</td>\n",
              "    </tr>\n",
              "    <tr>\n",
              "      <th>999</th>\n",
              "      <td>-67</td>\n",
              "      <td>-88.6</td>\n",
              "    </tr>\n",
              "  </tbody>\n",
              "</table>\n",
              "<p>1000 rows × 2 columns</p>\n",
              "</div>\n",
              "      <button class=\"colab-df-convert\" onclick=\"convertToInteractive('df-919714a4-17d4-460c-aced-58e773f6830f')\"\n",
              "              title=\"Convert this dataframe to an interactive table.\"\n",
              "              style=\"display:none;\">\n",
              "        \n",
              "  <svg xmlns=\"http://www.w3.org/2000/svg\" height=\"24px\"viewBox=\"0 0 24 24\"\n",
              "       width=\"24px\">\n",
              "    <path d=\"M0 0h24v24H0V0z\" fill=\"none\"/>\n",
              "    <path d=\"M18.56 5.44l.94 2.06.94-2.06 2.06-.94-2.06-.94-.94-2.06-.94 2.06-2.06.94zm-11 1L8.5 8.5l.94-2.06 2.06-.94-2.06-.94L8.5 2.5l-.94 2.06-2.06.94zm10 10l.94 2.06.94-2.06 2.06-.94-2.06-.94-.94-2.06-.94 2.06-2.06.94z\"/><path d=\"M17.41 7.96l-1.37-1.37c-.4-.4-.92-.59-1.43-.59-.52 0-1.04.2-1.43.59L10.3 9.45l-7.72 7.72c-.78.78-.78 2.05 0 2.83L4 21.41c.39.39.9.59 1.41.59.51 0 1.02-.2 1.41-.59l7.78-7.78 2.81-2.81c.8-.78.8-2.07 0-2.86zM5.41 20L4 18.59l7.72-7.72 1.47 1.35L5.41 20z\"/>\n",
              "  </svg>\n",
              "      </button>\n",
              "      \n",
              "  <style>\n",
              "    .colab-df-container {\n",
              "      display:flex;\n",
              "      flex-wrap:wrap;\n",
              "      gap: 12px;\n",
              "    }\n",
              "\n",
              "    .colab-df-convert {\n",
              "      background-color: #E8F0FE;\n",
              "      border: none;\n",
              "      border-radius: 50%;\n",
              "      cursor: pointer;\n",
              "      display: none;\n",
              "      fill: #1967D2;\n",
              "      height: 32px;\n",
              "      padding: 0 0 0 0;\n",
              "      width: 32px;\n",
              "    }\n",
              "\n",
              "    .colab-df-convert:hover {\n",
              "      background-color: #E2EBFA;\n",
              "      box-shadow: 0px 1px 2px rgba(60, 64, 67, 0.3), 0px 1px 3px 1px rgba(60, 64, 67, 0.15);\n",
              "      fill: #174EA6;\n",
              "    }\n",
              "\n",
              "    [theme=dark] .colab-df-convert {\n",
              "      background-color: #3B4455;\n",
              "      fill: #D2E3FC;\n",
              "    }\n",
              "\n",
              "    [theme=dark] .colab-df-convert:hover {\n",
              "      background-color: #434B5C;\n",
              "      box-shadow: 0px 1px 3px 1px rgba(0, 0, 0, 0.15);\n",
              "      filter: drop-shadow(0px 1px 2px rgba(0, 0, 0, 0.3));\n",
              "      fill: #FFFFFF;\n",
              "    }\n",
              "  </style>\n",
              "\n",
              "      <script>\n",
              "        const buttonEl =\n",
              "          document.querySelector('#df-919714a4-17d4-460c-aced-58e773f6830f button.colab-df-convert');\n",
              "        buttonEl.style.display =\n",
              "          google.colab.kernel.accessAllowed ? 'block' : 'none';\n",
              "\n",
              "        async function convertToInteractive(key) {\n",
              "          const element = document.querySelector('#df-919714a4-17d4-460c-aced-58e773f6830f');\n",
              "          const dataTable =\n",
              "            await google.colab.kernel.invokeFunction('convertToInteractive',\n",
              "                                                     [key], {});\n",
              "          if (!dataTable) return;\n",
              "\n",
              "          const docLinkHtml = 'Like what you see? Visit the ' +\n",
              "            '<a target=\"_blank\" href=https://colab.research.google.com/notebooks/data_table.ipynb>data table notebook</a>'\n",
              "            + ' to learn more about interactive tables.';\n",
              "          element.innerHTML = '';\n",
              "          dataTable['output_type'] = 'display_data';\n",
              "          await google.colab.output.renderOutput(dataTable, element);\n",
              "          const docLink = document.createElement('div');\n",
              "          docLink.innerHTML = docLinkHtml;\n",
              "          element.appendChild(docLink);\n",
              "        }\n",
              "      </script>\n",
              "    </div>\n",
              "  </div>\n",
              "  "
            ]
          },
          "metadata": {},
          "execution_count": 3
        }
      ]
    },
    {
      "cell_type": "markdown",
      "source": [
        "### Visualizacion de datos."
      ],
      "metadata": {
        "id": "GecUoWsVk79y"
      }
    },
    {
      "cell_type": "code",
      "source": [
        "sns.scatterplot(data_df['Celsius'], data_df['Fahrenheit'])"
      ],
      "metadata": {
        "colab": {
          "base_uri": "https://localhost:8080/",
          "height": 351
        },
        "id": "OUxBrdVOk-6T",
        "outputId": "dfb00cde-f20f-41f7-9596-19c26719523e"
      },
      "execution_count": 4,
      "outputs": [
        {
          "output_type": "stream",
          "name": "stderr",
          "text": [
            "/usr/local/lib/python3.8/dist-packages/seaborn/_decorators.py:36: FutureWarning: Pass the following variables as keyword args: x, y. From version 0.12, the only valid positional argument will be `data`, and passing other arguments without an explicit keyword will result in an error or misinterpretation.\n",
            "  warnings.warn(\n"
          ]
        },
        {
          "output_type": "execute_result",
          "data": {
            "text/plain": [
              "<matplotlib.axes._subplots.AxesSubplot at 0x7ff9655ae790>"
            ]
          },
          "metadata": {},
          "execution_count": 4
        },
        {
          "output_type": "display_data",
          "data": {
            "text/plain": [
              "<Figure size 432x288 with 1 Axes>"
            ],
            "image/png": "[encoded data removed]"
          },
          "metadata": {
            "needs_background": "light"
          }
        }
      ]
    },
    {
      "cell_type": "markdown",
      "source": [
        "Podemos obsevar una relacion directa entre Grados C° y F°"
      ],
      "metadata": {
        "id": "S9W6vOTxlfg_"
      }
    },
    {
      "cell_type": "markdown",
      "source": [
        "### Cargando set de datos"
      ],
      "metadata": {
        "id": "KAkNVT9Qlonn"
      }
    },
    {
      "cell_type": "code",
      "source": [
        "X_train = data_df['Celsius']\n",
        "y_train = data_df['Fahrenheit']"
      ],
      "metadata": {
        "id": "7QijuzU1lnZu"
      },
      "execution_count": 5,
      "outputs": []
    },
    {
      "cell_type": "markdown",
      "source": [
        "### Creando modelo de Prediccion"
      ],
      "metadata": {
        "id": "2DIWryQEl0Lg"
      }
    },
    {
      "cell_type": "markdown",
      "source": [
        "Para este caso utilizaremos un modelo secuencial. Esta clase de modelos tiene una entrada unica y una salida unica, en la grafica anterior podemos ver que existe la relacion adyacente."
      ],
      "metadata": {
        "id": "Rmzc_iKVl4kC"
      }
    },
    {
      "cell_type": "code",
      "source": [
        "model = tf.keras.Sequential()\n",
        "# Agregando capa de input (En este caso seria los grados Celcius)\n",
        "model.add(tf.keras.layers.Dense(units=1, input_shape=[1]))"
      ],
      "metadata": {
        "id": "TuyYoSaImXdz"
      },
      "execution_count": 6,
      "outputs": []
    },
    {
      "cell_type": "markdown",
      "source": [
        "### Observacion del modelo, con capas."
      ],
      "metadata": {
        "id": "FKovJIhonTr1"
      }
    },
    {
      "cell_type": "code",
      "source": [
        "model.summary()"
      ],
      "metadata": {
        "colab": {
          "base_uri": "https://localhost:8080/"
        },
        "id": "2EJGuZq6nXjB",
        "outputId": "392e7ac2-4754-4b28-ae00-d9c693d92de0"
      },
      "execution_count": 7,
      "outputs": [
        {
          "output_type": "stream",
          "name": "stdout",
          "text": [
            "Model: \"sequential\"\n",
            "_________________________________________________________________\n",
            " Layer (type)                Output Shape              Param #   \n",
            "=================================================================\n",
            " dense (Dense)               (None, 1)                 2         \n",
            "                                                                 \n",
            "=================================================================\n",
            "Total params: 2\n",
            "Trainable params: 2\n",
            "Non-trainable params: 0\n",
            "_________________________________________________________________\n"
          ]
        }
      ]
    },
    {
      "cell_type": "markdown",
      "source": [
        "### Compilado del Modelo"
      ],
      "metadata": {
        "id": "-YxBI9mroCls"
      }
    },
    {
      "cell_type": "code",
      "source": [
        "model.compile(\n",
        "    optimizer=tf.keras.optimizers.Adam(0.5),\n",
        "    loss='mse'\n",
        ")"
      ],
      "metadata": {
        "id": "zYT2X75koUNo"
      },
      "execution_count": 8,
      "outputs": []
    },
    {
      "cell_type": "markdown",
      "source": [
        "### Entrenando el modelo"
      ],
      "metadata": {
        "id": "Jta8JbVCpLl9"
      }
    },
    {
      "cell_type": "code",
      "source": [
        "epochs_hist = model.fit(X_train, y_train, epochs=100)"
      ],
      "metadata": {
        "colab": {
          "base_uri": "https://localhost:8080/"
        },
        "id": "_vQZaF4Vpbx8",
        "outputId": "8c6aaaf0-c58c-447f-a0fb-88e5d873c85b"
      },
      "execution_count": 9,
      "outputs": [
        {
          "output_type": "stream",
          "name": "stdout",
          "text": [
            "Epoch 1/100\n",
            "32/32 [==============================] - 1s 2ms/step - loss: 3578.3274\n",
            "Epoch 2/100\n",
            "32/32 [==============================] - 0s 2ms/step - loss: 225.4604\n",
            "Epoch 3/100\n",
            "32/32 [==============================] - 0s 2ms/step - loss: 24.0981\n",
            "Epoch 4/100\n",
            "32/32 [==============================] - 0s 2ms/step - loss: 1.3262\n",
            "Epoch 5/100\n",
            "32/32 [==============================] - 0s 1ms/step - loss: 0.0143\n",
            "Epoch 6/100\n",
            "32/32 [==============================] - 0s 2ms/step - loss: 4.8511e-04\n",
            "Epoch 7/100\n",
            "32/32 [==============================] - 0s 2ms/step - loss: 3.8716e-05\n",
            "Epoch 8/100\n",
            "32/32 [==============================] - 0s 2ms/step - loss: 2.9384e-07\n",
            "Epoch 9/100\n",
            "32/32 [==============================] - 0s 2ms/step - loss: 4.6519e-08\n",
            "Epoch 10/100\n",
            "32/32 [==============================] - 0s 1ms/step - loss: 7.6756e-10\n",
            "Epoch 11/100\n",
            "32/32 [==============================] - 0s 2ms/step - loss: 8.2483e-10\n",
            "Epoch 12/100\n",
            "32/32 [==============================] - 0s 2ms/step - loss: 8.7505e-10\n",
            "Epoch 13/100\n",
            "32/32 [==============================] - 0s 2ms/step - loss: 8.6259e-10\n",
            "Epoch 14/100\n",
            "32/32 [==============================] - 0s 2ms/step - loss: 6.2378e-10\n",
            "Epoch 15/100\n",
            "32/32 [==============================] - 0s 2ms/step - loss: 5.8147e-10\n",
            "Epoch 16/100\n",
            "32/32 [==============================] - 0s 2ms/step - loss: 5.7710e-10\n",
            "Epoch 17/100\n",
            "32/32 [==============================] - 0s 2ms/step - loss: 5.8642e-10\n",
            "Epoch 18/100\n",
            "32/32 [==============================] - 0s 2ms/step - loss: 5.4994e-10\n",
            "Epoch 19/100\n",
            "32/32 [==============================] - 0s 2ms/step - loss: 3.6441e-10\n",
            "Epoch 20/100\n",
            "32/32 [==============================] - 0s 2ms/step - loss: 3.8402e-10\n",
            "Epoch 21/100\n",
            "32/32 [==============================] - 0s 2ms/step - loss: 3.6860e-10\n",
            "Epoch 22/100\n",
            "32/32 [==============================] - 0s 2ms/step - loss: 3.6585e-10\n",
            "Epoch 23/100\n",
            "32/32 [==============================] - 0s 2ms/step - loss: 4.0623e-10\n",
            "Epoch 24/100\n",
            "32/32 [==============================] - 0s 2ms/step - loss: 4.1363e-10\n",
            "Epoch 25/100\n",
            "32/32 [==============================] - 0s 2ms/step - loss: 3.7905e-10\n",
            "Epoch 26/100\n",
            "32/32 [==============================] - 0s 2ms/step - loss: 3.3079e-10\n",
            "Epoch 27/100\n",
            "32/32 [==============================] - 0s 1ms/step - loss: 1.9969e-10\n",
            "Epoch 28/100\n",
            "32/32 [==============================] - 0s 2ms/step - loss: 2.3191e-10\n",
            "Epoch 29/100\n",
            "32/32 [==============================] - 0s 2ms/step - loss: 2.2679e-10\n",
            "Epoch 30/100\n",
            "32/32 [==============================] - 0s 2ms/step - loss: 2.1869e-10\n",
            "Epoch 31/100\n",
            "32/32 [==============================] - 0s 2ms/step - loss: 2.0180e-10\n",
            "Epoch 32/100\n",
            "32/32 [==============================] - 0s 2ms/step - loss: 2.1312e-10\n",
            "Epoch 33/100\n",
            "32/32 [==============================] - 0s 2ms/step - loss: 1.9771e-10\n",
            "Epoch 34/100\n",
            "32/32 [==============================] - 0s 2ms/step - loss: 2.0779e-10\n",
            "Epoch 35/100\n",
            "32/32 [==============================] - 0s 2ms/step - loss: 2.2215e-10\n",
            "Epoch 36/100\n",
            "32/32 [==============================] - 0s 2ms/step - loss: 2.6145e-10\n",
            "Epoch 37/100\n",
            "32/32 [==============================] - 0s 2ms/step - loss: 2.4832e-10\n",
            "Epoch 38/100\n",
            "32/32 [==============================] - 0s 2ms/step - loss: 2.2943e-10\n",
            "Epoch 39/100\n",
            "32/32 [==============================] - 0s 2ms/step - loss: 2.4491e-10\n",
            "Epoch 40/100\n",
            "32/32 [==============================] - 0s 2ms/step - loss: 2.0571e-10\n",
            "Epoch 41/100\n",
            "32/32 [==============================] - 0s 1ms/step - loss: 1.2583e-10\n",
            "Epoch 42/100\n",
            "32/32 [==============================] - 0s 2ms/step - loss: 1.4683e-10\n",
            "Epoch 43/100\n",
            "32/32 [==============================] - 0s 2ms/step - loss: 9.5680e-11\n",
            "Epoch 44/100\n",
            "32/32 [==============================] - 0s 1ms/step - loss: 1.1555e-10\n",
            "Epoch 45/100\n",
            "32/32 [==============================] - 0s 2ms/step - loss: 1.0723e-10\n",
            "Epoch 46/100\n",
            "32/32 [==============================] - 0s 2ms/step - loss: 1.0701e-10\n",
            "Epoch 47/100\n",
            "32/32 [==============================] - 0s 2ms/step - loss: 1.0225e-10\n",
            "Epoch 48/100\n",
            "32/32 [==============================] - 0s 2ms/step - loss: 1.1686e-10\n",
            "Epoch 49/100\n",
            "32/32 [==============================] - 0s 1ms/step - loss: 9.7444e-11\n",
            "Epoch 50/100\n",
            "32/32 [==============================] - 0s 2ms/step - loss: 1.2838e-10\n",
            "Epoch 51/100\n",
            "32/32 [==============================] - 0s 1ms/step - loss: 9.7523e-11\n",
            "Epoch 52/100\n",
            "32/32 [==============================] - 0s 2ms/step - loss: 1.0785e-10\n",
            "Epoch 53/100\n",
            "32/32 [==============================] - 0s 2ms/step - loss: 1.0304e-10\n",
            "Epoch 54/100\n",
            "32/32 [==============================] - 0s 1ms/step - loss: 1.2212e-10\n",
            "Epoch 55/100\n",
            "32/32 [==============================] - 0s 1ms/step - loss: 1.3143e-10\n",
            "Epoch 56/100\n",
            "32/32 [==============================] - 0s 2ms/step - loss: 1.6041e-10\n",
            "Epoch 57/100\n",
            "32/32 [==============================] - 0s 2ms/step - loss: 1.2149e-10\n",
            "Epoch 58/100\n",
            "32/32 [==============================] - 0s 2ms/step - loss: 1.1430e-10\n",
            "Epoch 59/100\n",
            "32/32 [==============================] - 0s 1ms/step - loss: 1.1208e-10\n",
            "Epoch 60/100\n",
            "32/32 [==============================] - 0s 2ms/step - loss: 1.6620e-10\n",
            "Epoch 61/100\n",
            "32/32 [==============================] - 0s 1ms/step - loss: 1.6716e-10\n",
            "Epoch 62/100\n",
            "32/32 [==============================] - 0s 2ms/step - loss: 1.1571e-10\n",
            "Epoch 63/100\n",
            "32/32 [==============================] - 0s 1ms/step - loss: 1.8120e-10\n",
            "Epoch 64/100\n",
            "32/32 [==============================] - 0s 2ms/step - loss: 5.3786e-11\n",
            "Epoch 65/100\n",
            "32/32 [==============================] - 0s 2ms/step - loss: 7.4559e-11\n",
            "Epoch 66/100\n",
            "32/32 [==============================] - 0s 1ms/step - loss: 6.2640e-11\n",
            "Epoch 67/100\n",
            "32/32 [==============================] - 0s 2ms/step - loss: 4.0921e-11\n",
            "Epoch 68/100\n",
            "32/32 [==============================] - 0s 1ms/step - loss: 5.2358e-11\n",
            "Epoch 69/100\n",
            "32/32 [==============================] - 0s 2ms/step - loss: 4.3760e-11\n",
            "Epoch 70/100\n",
            "32/32 [==============================] - 0s 2ms/step - loss: 4.9448e-11\n",
            "Epoch 71/100\n",
            "32/32 [==============================] - 0s 2ms/step - loss: 7.2187e-11\n",
            "Epoch 72/100\n",
            "32/32 [==============================] - 0s 2ms/step - loss: 8.2496e-11\n",
            "Epoch 73/100\n",
            "32/32 [==============================] - 0s 2ms/step - loss: 2.6194e-10\n",
            "Epoch 74/100\n",
            "32/32 [==============================] - 0s 2ms/step - loss: 1.0266e-10\n",
            "Epoch 75/100\n",
            "32/32 [==============================] - 0s 1ms/step - loss: 4.4915e-11\n",
            "Epoch 76/100\n",
            "32/32 [==============================] - 0s 1ms/step - loss: 6.3450e-11\n",
            "Epoch 77/100\n",
            "32/32 [==============================] - 0s 2ms/step - loss: 7.9338e-11\n",
            "Epoch 78/100\n",
            "32/32 [==============================] - 0s 2ms/step - loss: 5.0361e-11\n",
            "Epoch 79/100\n",
            "32/32 [==============================] - 0s 2ms/step - loss: 4.6083e-11\n",
            "Epoch 80/100\n",
            "32/32 [==============================] - 0s 1ms/step - loss: 1.1661e-10\n",
            "Epoch 81/100\n",
            "32/32 [==============================] - 0s 2ms/step - loss: 1.2701e-10\n",
            "Epoch 82/100\n",
            "32/32 [==============================] - 0s 2ms/step - loss: 6.5709e-11\n",
            "Epoch 83/100\n",
            "32/32 [==============================] - 0s 1ms/step - loss: 7.5418e-11\n",
            "Epoch 84/100\n",
            "32/32 [==============================] - 0s 2ms/step - loss: 8.9816e-11\n",
            "Epoch 85/100\n",
            "32/32 [==============================] - 0s 2ms/step - loss: 4.5664e-11\n",
            "Epoch 86/100\n",
            "32/32 [==============================] - 0s 2ms/step - loss: 4.2252e-11\n",
            "Epoch 87/100\n",
            "32/32 [==============================] - 0s 2ms/step - loss: 4.3416e-11\n",
            "Epoch 88/100\n",
            "32/32 [==============================] - 0s 2ms/step - loss: 7.3814e-11\n",
            "Epoch 89/100\n",
            "32/32 [==============================] - 0s 2ms/step - loss: 5.0855e-11\n",
            "Epoch 90/100\n",
            "32/32 [==============================] - 0s 1ms/step - loss: 5.1784e-11\n",
            "Epoch 91/100\n",
            "32/32 [==============================] - 0s 2ms/step - loss: 5.8721e-11\n",
            "Epoch 92/100\n",
            "32/32 [==============================] - 0s 2ms/step - loss: 5.2384e-11\n",
            "Epoch 93/100\n",
            "32/32 [==============================] - 0s 2ms/step - loss: 6.0110e-11\n",
            "Epoch 94/100\n",
            "32/32 [==============================] - 0s 2ms/step - loss: 5.7833e-11\n",
            "Epoch 95/100\n",
            "32/32 [==============================] - 0s 2ms/step - loss: 8.0399e-11\n",
            "Epoch 96/100\n",
            "32/32 [==============================] - 0s 2ms/step - loss: 1.0624e-10\n",
            "Epoch 97/100\n",
            "32/32 [==============================] - 0s 2ms/step - loss: 6.3204e-11\n",
            "Epoch 98/100\n",
            "32/32 [==============================] - 0s 2ms/step - loss: 7.1371e-11\n",
            "Epoch 99/100\n",
            "32/32 [==============================] - 0s 2ms/step - loss: 1.2811e-10\n",
            "Epoch 100/100\n",
            "32/32 [==============================] - 0s 2ms/step - loss: 4.9273e-11\n"
          ]
        }
      ]
    },
    {
      "cell_type": "markdown",
      "source": [
        "### Evaluacion de modelo"
      ],
      "metadata": {
        "id": "-NW-4GnEsgTY"
      }
    },
    {
      "cell_type": "code",
      "source": [
        "epochs_hist.history.keys()\n",
        "plt.plot(epochs_hist.history['loss'])\n",
        "plt.title('Proceso de perdida durante el entranamiento del modelo')\n",
        "plt.xlabel('Epocas de entrenamiento')\n",
        "plt.ylabel('Perdida')"
      ],
      "metadata": {
        "colab": {
          "base_uri": "https://localhost:8080/",
          "height": 312
        },
        "id": "rSJRhOb7siMS",
        "outputId": "22eded3e-5555-4b37-e0f9-327fcec5a79e"
      },
      "execution_count": 11,
      "outputs": [
        {
          "output_type": "execute_result",
          "data": {
            "text/plain": [
              "Text(0, 0.5, 'Perdida')"
            ]
          },
          "metadata": {},
          "execution_count": 11
        },
        {
          "output_type": "display_data",
          "data": {
            "text/plain": [
              "<Figure size 432x288 with 1 Axes>"
            ],
            "image/png": "[encoded data removed]"
          },
          "metadata": {
            "needs_background": "light"
          }
        }
      ]
    },
    {
      "cell_type": "markdown",
      "source": [
        "### Predicciones del modelo."
      ],
      "metadata": {
        "id": "ofzeiqeDuAsd"
      }
    },
    {
      "cell_type": "code",
      "source": [
        "Temp_C =  0\n",
        "Temp_F = model.predict([Temp_C])\n",
        "print(f'La temperatura en F° es: {Temp_F}')"
      ],
      "metadata": {
        "colab": {
          "base_uri": "https://localhost:8080/"
        },
        "id": "aw_YqcGguFCZ",
        "outputId": "88ae66a9-8c12-4bce-8b07-a1c7015e7d79"
      },
      "execution_count": 12,
      "outputs": [
        {
          "output_type": "stream",
          "name": "stdout",
          "text": [
            "1/1 [==============================] - 0s 96ms/step\n",
            "La temperatura en F° es: [[32.000004]]\n"
          ]
        }
      ]
    },
    {
      "cell_type": "code",
      "source": [
        "!pip install pipreqs"
      ],
      "metadata": {
        "colab": {
          "base_uri": "https://localhost:8080/"
        },
        "id": "oklTyUYa1CYB",
        "outputId": "449b2fae-7c27-4f0a-ee08-82c830a2a916"
      },
      "execution_count": 15,
      "outputs": [
        {
          "output_type": "stream",
          "name": "stdout",
          "text": [
            "Looking in indexes: https://pypi.org/simple, https://us-python.pkg.dev/colab-wheels/public/simple/\n",
            "Collecting pipreqs\n",
            "  Downloading pipreqs-0.4.11-py2.py3-none-any.whl (32 kB)\n",
            "Collecting docopt\n",
            "  Downloading docopt-0.6.2.tar.gz (25 kB)\n",
            "Collecting yarg\n",
            "  Downloading yarg-0.1.9-py2.py3-none-any.whl (19 kB)\n",
            "Requirement already satisfied: requests in /usr/local/lib/python3.8/dist-packages (from yarg->pipreqs) (2.23.0)\n",
            "Requirement already satisfied: idna<3,>=2.5 in /usr/local/lib/python3.8/dist-packages (from requests->yarg->pipreqs) (2.10)\n",
            "Requirement already satisfied: urllib3!=1.25.0,!=1.25.1,<1.26,>=1.21.1 in /usr/local/lib/python3.8/dist-packages (from requests->yarg->pipreqs) (1.24.3)\n",
            "Requirement already satisfied: chardet<4,>=3.0.2 in /usr/local/lib/python3.8/dist-packages (from requests->yarg->pipreqs) (3.0.4)\n",
            "Requirement already satisfied: certifi>=2017.4.17 in /usr/local/lib/python3.8/dist-packages (from requests->yarg->pipreqs) (2022.9.24)\n",
            "Building wheels for collected packages: docopt\n",
            "  Building wheel for docopt (setup.py) ... \u001b[?25l\u001b[?25hdone\n",
            "  Created wheel for docopt: filename=docopt-0.6.2-py2.py3-none-any.whl size=13723 sha256=e7f761fd709b52e0823dda17e6339d9da29192083f8a75660df64180d8bf032a\n",
            "  Stored in directory: /root/.cache/pip/wheels/56/ea/58/ead137b087d9e326852a851351d1debf4ada529b6ac0ec4e8c\n",
            "Successfully built docopt\n",
            "Installing collected packages: yarg, docopt, pipreqs\n",
            "Successfully installed docopt-0.6.2 pipreqs-0.4.11 yarg-0.1.9\n"
          ]
        }
      ]
    },
    {
      "cell_type": "code",
      "source": [
        "!pipreqs . "
      ],
      "metadata": {
        "colab": {
          "base_uri": "https://localhost:8080/"
        },
        "id": "0Nsi3ewp1MrY",
        "outputId": "500c0857-599f-463e-ef64-dfc66e9704ad"
      },
      "execution_count": 16,
      "outputs": [
        {
          "output_type": "stream",
          "name": "stdout",
          "text": [
            "INFO: Successfully saved requirements file in ./requirements.txt\n"
          ]
        }
      ]
    }
  ]
}